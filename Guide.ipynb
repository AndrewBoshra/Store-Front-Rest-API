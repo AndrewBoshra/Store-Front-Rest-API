{
 "cells": [
  {
   "cell_type": "markdown",
   "metadata": {
    "editable": false,
    "ulab": {
     "buttons": {
      "ulab-button-e098123f": {
       "bashCommand": "",
       "filesToOpen": [],
       "isPreviewButton": false,
       "runInBackground": false,
       "style": "primary",
       "text": "TODO",
       "toggleOffText": "HIDE SOLUTION",
       "toggleOnText": "SHOW SOLUTION"
      }
     }
    }
   },
   "source": [
    "# Storefront Backend Project\n",
    "\n",
    "## Getting Started\n",
    "\n",
    "This repo contains a basic Node and Express app to get you started in constructing an API. To get started, clone this repo and run `yarn` in your terminal at the project root.\n",
    "\n",
    "## Required Technologies\n",
    "Your application must make use of the following libraries:\n",
    "- Postgres for the database\n",
    "- Node/Express for the application logic\n",
    "- dotenv from npm for managing environment variables\n",
    "- db-migrate from npm for migrations\n",
    "- jsonwebtoken from npm for working with JWTs\n",
    "- jasmine from npm for testing\n",
    "\n",
    "## Environment\n",
    "#### Workspace\n",
    "This project can be done inside of this Udacity workspace. To ready your environment follow these steps:\n",
    "\n",
    "##### In a terminal tab, create and run the database:\n",
    "- switch to the postgres user `su postgres` \n",
    "- start psql `psql postgres`\n",
    "- in psql run the following:\n",
    "  - `CREATE USER shopping_user WITH PASSWORD 'password123';`\n",
    "  - `CREATE DATABASE shopping;`\n",
    "  - `\\c shopping`\n",
    "  - `GRANT ALL PRIVILEGES ON DATABASE shopping TO shopping_user;`\n",
    "- to test that it is working run `\\dt` and it should output \"No relations found.\"\n",
    "\n",
    "##### In the 2nd terminal:\n",
    "- install yarn `npm install yarn -g`\n",
    "- install db-migrate on the machine for terminal commands `npm install db-migrate -g`\n",
    "- check node version `node -v` - it needs to be 10 or 12 level\n",
    "- *IF node was not 10 or 12 level, run* \n",
    "  - `npm install -g n`\n",
    "  - `n 10.18.0`\n",
    "  - `PATH=\"$PATH\"`\n",
    "  - `node -v` to check that the version is 10 or 12\n",
    "- install all project dependencies `yarn`\n",
    "- to test that it is working, run `yarn watch` should show an app starting on `0.0.0.0:3000`"
   ]
  },
  {
   "cell_type": "markdown",
   "metadata": {
    "editable": false
   },
   "source": [
    "#### Local Environment\n",
    "If want to do this project on your local computer and you already have docker installed, there is a docker file provided for you with generic content. Note that you may need to update this file to fit your computer in order to use it locally. \n",
    "\n",
    "## Steps to Completion\n",
    "\n",
    "1. Plan to Meet Requirements\n",
    "2. DB Creation and Migrations\n",
    "3. Models\n",
    "4. Express Handlers\n",
    "5. JWTs\n",
    "6. QA and Readme\n",
    "\n",
    "Go to the following pages to get started on the project!"
   ]
  },
  {
   "cell_type": "markdown",
   "metadata": {
    "editable": false
   },
   "source": [
    "<!--\n",
    "%%ulab_page_divider\n",
    "--><hr/>"
   ]
  },
  {
   "cell_type": "markdown",
   "metadata": {
    "editable": false
   },
   "source": [
    "### 1. Plan to Meet Requirements\n",
    "In this repo there is a `REQUIREMENTS.md` document which outlines what this API needs to supply for the frontend, as well as the agreed upon data shapes to be passed between front and backend. This is much like a document you might come across in real life when building or extending an API. \n",
    "\n",
    "Your first task is to read the requirements and update the document with the following:\n",
    "- Determine the RESTful route for each endpoint listed. Add the RESTful route and HTTP verb to the document so that the frontend developer can begin to build their fetch requests. **Example**: for a SHOW route: 'blogs/:id' [GET] \n",
    "\n",
    "- Design the Postgres database tables based off the data shape requirements. Add to the requirements document the database tables and columns being sure to mark foreign keys. **Example**: You can format this however you like but these types of information should be provided\n",
    "Table: Books (id:varchar, title:varchar, author:varchar, published_year:varchar, publisher_id:string[foreign key to publishers table], pages:number)\n",
    "\n",
    "**NOTE** It is important to remember that there might not be a one to one ratio between data shapes and database tables. Data shapes only outline the structure of objects being passed between frontend and API, the database may need multiple tables to store a single shape. "
   ]
  },
  {
   "cell_type": "markdown",
   "metadata": {
    "editable": false
   },
   "source": [
    "<!--\n",
    "%%ulab_page_divider\n",
    "--><hr/>"
   ]
  },
  {
   "cell_type": "markdown",
   "metadata": {
    "editable": false,
    "ulab": {
     "buttons": {
      "ulab-button-50644438": {
       "bashCommand": "",
       "filesToOpen": [],
       "isPreviewButton": false,
       "runInBackground": false,
       "text": "RIGHT CLICK ME"
      }
     }
    }
   },
   "source": [
    "### 2.  DB Creation and Migrations\n",
    "\n",
    "Now that you have the structure of the databse outlined, it is time to create the database and migrations. Add the npm packages dotenv and db-migrate that we used in the course and setup your Postgres database. If you get stuck, you can always revisit the database lesson for a reminder. \n",
    "\n",
    "You must also ensure that any sensitive information is hashed with bcrypt. If any passwords are found in plain text in your application it will not pass."
   ]
  },
  {
   "cell_type": "markdown",
   "metadata": {
    "editable": false
   },
   "source": [
    "<!--\n",
    "%%ulab_page_divider\n",
    "--><hr/>"
   ]
  },
  {
   "cell_type": "markdown",
   "metadata": {
    "editable": false
   },
   "source": [
    "### 3. Models\n",
    "\n",
    "Create the models for each database table. The methods in each model should map to the endpoints in `REQUIREMENTS.md`. Remember that these models should all have test suites and mocks."
   ]
  },
  {
   "cell_type": "markdown",
   "metadata": {
    "editable": false
   },
   "source": [
    "<!--\n",
    "%%ulab_page_divider\n",
    "--><hr/>"
   ]
  },
  {
   "cell_type": "markdown",
   "metadata": {
    "editable": false,
    "ulab": {
     "buttons": {
      "ulab-button-b9256531": {
       "bashCommand": "",
       "filesToOpen": [],
       "isPreviewButton": false,
       "runInBackground": false,
       "text": "RIGHT CLICK ME"
      }
     }
    }
   },
   "source": [
    "### 4. Express Handlers\n",
    "\n",
    "Set up the Express handlers to route incoming requests to the correct model method. Make sure that the endpoints you create match up with the enpoints listed in `REQUIREMENTS.md`. Endpoints must have tests and be CORS enabled."
   ]
  },
  {
   "cell_type": "markdown",
   "metadata": {
    "editable": false
   },
   "source": [
    "<!--\n",
    "%%ulab_page_divider\n",
    "--><hr/>"
   ]
  },
  {
   "cell_type": "markdown",
   "metadata": {
    "editable": false
   },
   "source": [
    "### 5. JWTs\n",
    "\n",
    "Add JWT functionality as shown in the course. Make sure that JWTs are required for the routes listed in `REQUIREMENTS.md`."
   ]
  },
  {
   "cell_type": "markdown",
   "metadata": {
    "editable": false
   },
   "source": [
    "<!--\n",
    "%%ulab_page_divider\n",
    "--><hr/>"
   ]
  },
  {
   "cell_type": "markdown",
   "metadata": {
    "editable": false
   },
   "source": [
    "### 6. QA and `README.md`\n",
    "\n",
    "Before submitting, make sure that your project is complete with a `README.md`. Your `README.md` must include instructions for setting up and running your project including how you setup, run, and connect to your database. \n",
    "\n",
    "Before submitting your project, spin it up and test each endpoint. If each one responds with data that matches the data shapes from `REQUIREMENTS.md`, it is ready for submission!"
   ]
  }
 ],
 "metadata": {
  "kernelspec": {
   "display_name": "Python 3",
   "language": "python",
   "name": "python3"
  },
  "language_info": {
   "codemirror_mode": {
    "name": "ipython",
    "version": 3
   },
   "file_extension": ".py",
   "mimetype": "text/x-python",
   "name": "python",
   "nbconvert_exporter": "python",
   "pygments_lexer": "ipython3",
   "version": "3.6.3"
  },
  "ulab_nb_type": "guided"
 },
 "nbformat": 4,
 "nbformat_minor": 4
}
